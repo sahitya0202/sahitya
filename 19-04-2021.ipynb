{
 "cells": [
  {
   "cell_type": "markdown",
   "metadata": {},
   "source": [
    "### Object oriented programming\n",
    "* **Class**\n",
    "  * collection of variables and methods\n",
    "* **syntax**\n",
    "  * class classname:\n",
    "    '''doccumentation'''\n",
    "    variables\n",
    "    methods\n",
    "* **Rules**\n",
    "  * should be capital\n",
    "  * doesnt allow spaces\n",
    "  * doesnt allow keywords\n",
    "* **Object**\n",
    "* **constructor**\n",
    "* **inheritance**\n",
    "* **packages and modules using oops**"
   ]
  },
  {
   "cell_type": "code",
   "execution_count": 6,
   "metadata": {},
   "outputs": [
    {
     "name": "stdout",
     "output_type": "stream",
     "text": [
      "10\n",
      "Inside a class\n",
      "None\n",
      "None\n"
     ]
    }
   ],
   "source": [
    "class example:\n",
    "    a=10\n",
    "    def exmp():\n",
    "        print('Inside a class')\n",
    "print(example.a)\n",
    "print(example.exmp())\n",
    "print(example.__doc__)"
   ]
  },
  {
   "cell_type": "code",
   "execution_count": 7,
   "metadata": {},
   "outputs": [
    {
     "name": "stdout",
     "output_type": "stream",
     "text": [
      "10\n",
      "Inside a class\n",
      "None\n"
     ]
    }
   ],
   "source": [
    "class example:\n",
    "    a=10\n",
    "    def exmp():\n",
    "        return'Inside a class'\n",
    "print(example.a)\n",
    "print(example.exmp())\n",
    "print(example.__doc__)"
   ]
  },
  {
   "cell_type": "code",
   "execution_count": 11,
   "metadata": {},
   "outputs": [
    {
     "name": "stdout",
     "output_type": "stream",
     "text": [
      "120\n"
     ]
    }
   ],
   "source": [
    "class fact1:\n",
    "    def factorial(n):\n",
    "        fact=1\n",
    "        for i in range(1,n+1):\n",
    "            fact=fact*i\n",
    "        return fact\n",
    "print(fact1.factorial(5))\n",
    "\n",
    "        "
   ]
  },
  {
   "cell_type": "code",
   "execution_count": 24,
   "metadata": {},
   "outputs": [
    {
     "data": {
      "text/plain": [
       "'Perfect number'"
      ]
     },
     "execution_count": 24,
     "metadata": {},
     "output_type": "execute_result"
    }
   ],
   "source": [
    "class A:\n",
    "    def perfect(self,n):\n",
    "        sum=0\n",
    "        for i in range(1,n):\n",
    "            if(n%i==0):\n",
    "                sum=sum+i\n",
    "        if(sum==n):\n",
    "            return'Perfect number'\n",
    "        else:\n",
    "            return'Not a perfect number'\n",
    "a=A()\n",
    "a.perfect(6)"
   ]
  },
  {
   "cell_type": "markdown",
   "metadata": {},
   "source": [
    "### parameterized constructors \n"
   ]
  },
  {
   "cell_type": "code",
   "execution_count": 25,
   "metadata": {},
   "outputs": [
    {
     "data": {
      "text/plain": [
       "11"
      ]
     },
     "execution_count": 25,
     "metadata": {},
     "output_type": "execute_result"
    }
   ],
   "source": [
    "class Paracons:\n",
    "    def __init__(abc,a,b):\n",
    "        abc.a=a\n",
    "        abc.b=b\n",
    "    def add(abc):\n",
    "        return abc.a+abc.b\n",
    "pc=Paracons(10,1)\n",
    "pc.add()"
   ]
  },
  {
   "cell_type": "markdown",
   "metadata": {},
   "source": [
    "### Inheritance\n",
    "* **objects only created for child class irrespective of an inhritance**\n",
    "  * Single Inheritance\n",
    "  * Multilevel Inheritance\n",
    "  * Multiple Inheritance\n",
    "  * Hybrid Inheritance\n",
    "  * Heirarchy Inheritance"
   ]
  },
  {
   "cell_type": "markdown",
   "metadata": {},
   "source": [
    "***Heirarchy Inheritance***"
   ]
  },
  {
   "cell_type": "code",
   "execution_count": 4,
   "metadata": {},
   "outputs": [
    {
     "name": "stdout",
     "output_type": "stream",
     "text": [
      "Parent class\n",
      "Child class2\n"
     ]
    }
   ],
   "source": [
    "class A:\n",
    "    a=1\n",
    "    def aa(self):\n",
    "        return'Parent class'\n",
    "class B(A):\n",
    "    b=2\n",
    "    def ba():\n",
    "        return'Child class1'\n",
    "class C(A):\n",
    "    c=3\n",
    "    def ca(self):\n",
    "        return'Child class2'\n",
    "obj=C()\n",
    "print(obj.aa())\n",
    "print(obj.ca())"
   ]
  },
  {
   "cell_type": "code",
   "execution_count": 6,
   "metadata": {},
   "outputs": [
    {
     "name": "stdout",
     "output_type": "stream",
     "text": [
      "Parent class\n",
      "Child class1\n"
     ]
    }
   ],
   "source": [
    "class A:\n",
    "    a=1\n",
    "    def aa(self):\n",
    "        return'Parent class'\n",
    "class B(A):\n",
    "    b=2\n",
    "    def ba(self):\n",
    "        return'Child class1'\n",
    "class C(A):\n",
    "    c=3\n",
    "    def ca(self):\n",
    "        return'Child class2'\n",
    "obj=B()\n",
    "print(obj.aa())\n",
    "print(obj.ba())"
   ]
  },
  {
   "cell_type": "code",
   "execution_count": null,
   "metadata": {},
   "outputs": [],
   "source": []
  }
 ],
 "metadata": {
  "kernelspec": {
   "display_name": "Python 3",
   "language": "python",
   "name": "python3"
  },
  "language_info": {
   "codemirror_mode": {
    "name": "ipython",
    "version": 3
   },
   "file_extension": ".py",
   "mimetype": "text/x-python",
   "name": "python",
   "nbconvert_exporter": "python",
   "pygments_lexer": "ipython3",
   "version": "3.8.5"
  }
 },
 "nbformat": 4,
 "nbformat_minor": 4
}
